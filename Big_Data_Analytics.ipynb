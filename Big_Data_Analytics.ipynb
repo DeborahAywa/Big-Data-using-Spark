{
  "nbformat": 4,
  "nbformat_minor": 0,
  "metadata": {
    "colab": {
      "provenance": [],
      "authorship_tag": "ABX9TyN+RThcv2ONh/1LW0ecXa3w",
      "include_colab_link": true
    },
    "kernelspec": {
      "name": "python3",
      "display_name": "Python 3"
    },
    "language_info": {
      "name": "python"
    }
  },
  "cells": [
    {
      "cell_type": "markdown",
      "metadata": {
        "id": "view-in-github",
        "colab_type": "text"
      },
      "source": [
        "<a href=\"https://colab.research.google.com/github/DeborahAywa/Big-Data-using-Spark/blob/main/Big_Data_Analytics.ipynb\" target=\"_parent\"><img src=\"https://colab.research.google.com/assets/colab-badge.svg\" alt=\"Open In Colab\"/></a>"
      ]
    },
    {
      "cell_type": "code",
      "execution_count": null,
      "metadata": {
        "id": "r8OMJXj15R1e"
      },
      "outputs": [],
      "source": []
    },
    {
      "cell_type": "markdown",
      "source": [
        "# Question 1 : Reading three csv datasets"
      ],
      "metadata": {
        "id": "LqX1OGG05xwo"
      }
    },
    {
      "cell_type": "code",
      "source": [
        "# Importing pandas and numpy libraries\n",
        "import pandas as pd\n",
        "import numpy as np"
      ],
      "metadata": {
        "id": "I6lAN-kB59j3"
      },
      "execution_count": null,
      "outputs": []
    },
    {
      "cell_type": "code",
      "source": [
        "# Reading the csv files\n",
        "C02_emission = pd.read_csv(\"/content/CO2_emission.csv\",encoding = 'ISO-8859-1')\n",
        "C02_emission.head()"
      ],
      "metadata": {
        "colab": {
          "base_uri": "https://localhost:8080/",
          "height": 337
        },
        "id": "-ceNfSDB8KrR",
        "outputId": "dbbe90f4-e4dc-4e12-ac7d-125e40f2ff41"
      },
      "execution_count": null,
      "outputs": [
        {
          "output_type": "execute_result",
          "data": {
            "text/html": [
              "\n",
              "  <div id=\"df-afaa425a-02b4-4197-a959-78874b786d02\">\n",
              "    <div class=\"colab-df-container\">\n",
              "      <div>\n",
              "<style scoped>\n",
              "    .dataframe tbody tr th:only-of-type {\n",
              "        vertical-align: middle;\n",
              "    }\n",
              "\n",
              "    .dataframe tbody tr th {\n",
              "        vertical-align: top;\n",
              "    }\n",
              "\n",
              "    .dataframe thead th {\n",
              "        text-align: right;\n",
              "    }\n",
              "</style>\n",
              "<table border=\"1\" class=\"dataframe\">\n",
              "  <thead>\n",
              "    <tr style=\"text-align: right;\">\n",
              "      <th></th>\n",
              "      <th>T24</th>\n",
              "      <th>CO2 emission estimates</th>\n",
              "      <th>Unnamed: 2</th>\n",
              "      <th>Unnamed: 3</th>\n",
              "      <th>Unnamed: 4</th>\n",
              "      <th>Unnamed: 5</th>\n",
              "      <th>Unnamed: 6</th>\n",
              "    </tr>\n",
              "  </thead>\n",
              "  <tbody>\n",
              "    <tr>\n",
              "      <th>0</th>\n",
              "      <td>Region/Country/Area</td>\n",
              "      <td>NaN</td>\n",
              "      <td>Year</td>\n",
              "      <td>Series</td>\n",
              "      <td>Value</td>\n",
              "      <td>Footnotes</td>\n",
              "      <td>Source</td>\n",
              "    </tr>\n",
              "    <tr>\n",
              "      <th>1</th>\n",
              "      <td>8</td>\n",
              "      <td>Albania</td>\n",
              "      <td>1975</td>\n",
              "      <td>Emissions (thousand metric tons of carbon diox...</td>\n",
              "      <td>4,338</td>\n",
              "      <td>NaN</td>\n",
              "      <td>International Energy Agency, IEA World Energy ...</td>\n",
              "    </tr>\n",
              "    <tr>\n",
              "      <th>2</th>\n",
              "      <td>8</td>\n",
              "      <td>Albania</td>\n",
              "      <td>1985</td>\n",
              "      <td>Emissions (thousand metric tons of carbon diox...</td>\n",
              "      <td>6,930</td>\n",
              "      <td>NaN</td>\n",
              "      <td>International Energy Agency, IEA World Energy ...</td>\n",
              "    </tr>\n",
              "    <tr>\n",
              "      <th>3</th>\n",
              "      <td>8</td>\n",
              "      <td>Albania</td>\n",
              "      <td>2005</td>\n",
              "      <td>Emissions (thousand metric tons of carbon diox...</td>\n",
              "      <td>3,825</td>\n",
              "      <td>NaN</td>\n",
              "      <td>International Energy Agency, IEA World Energy ...</td>\n",
              "    </tr>\n",
              "    <tr>\n",
              "      <th>4</th>\n",
              "      <td>8</td>\n",
              "      <td>Albania</td>\n",
              "      <td>2010</td>\n",
              "      <td>Emissions (thousand metric tons of carbon diox...</td>\n",
              "      <td>3,930</td>\n",
              "      <td>NaN</td>\n",
              "      <td>International Energy Agency, IEA World Energy ...</td>\n",
              "    </tr>\n",
              "  </tbody>\n",
              "</table>\n",
              "</div>\n",
              "      <button class=\"colab-df-convert\" onclick=\"convertToInteractive('df-afaa425a-02b4-4197-a959-78874b786d02')\"\n",
              "              title=\"Convert this dataframe to an interactive table.\"\n",
              "              style=\"display:none;\">\n",
              "        \n",
              "  <svg xmlns=\"http://www.w3.org/2000/svg\" height=\"24px\"viewBox=\"0 0 24 24\"\n",
              "       width=\"24px\">\n",
              "    <path d=\"M0 0h24v24H0V0z\" fill=\"none\"/>\n",
              "    <path d=\"M18.56 5.44l.94 2.06.94-2.06 2.06-.94-2.06-.94-.94-2.06-.94 2.06-2.06.94zm-11 1L8.5 8.5l.94-2.06 2.06-.94-2.06-.94L8.5 2.5l-.94 2.06-2.06.94zm10 10l.94 2.06.94-2.06 2.06-.94-2.06-.94-.94-2.06-.94 2.06-2.06.94z\"/><path d=\"M17.41 7.96l-1.37-1.37c-.4-.4-.92-.59-1.43-.59-.52 0-1.04.2-1.43.59L10.3 9.45l-7.72 7.72c-.78.78-.78 2.05 0 2.83L4 21.41c.39.39.9.59 1.41.59.51 0 1.02-.2 1.41-.59l7.78-7.78 2.81-2.81c.8-.78.8-2.07 0-2.86zM5.41 20L4 18.59l7.72-7.72 1.47 1.35L5.41 20z\"/>\n",
              "  </svg>\n",
              "      </button>\n",
              "      \n",
              "  <style>\n",
              "    .colab-df-container {\n",
              "      display:flex;\n",
              "      flex-wrap:wrap;\n",
              "      gap: 12px;\n",
              "    }\n",
              "\n",
              "    .colab-df-convert {\n",
              "      background-color: #E8F0FE;\n",
              "      border: none;\n",
              "      border-radius: 50%;\n",
              "      cursor: pointer;\n",
              "      display: none;\n",
              "      fill: #1967D2;\n",
              "      height: 32px;\n",
              "      padding: 0 0 0 0;\n",
              "      width: 32px;\n",
              "    }\n",
              "\n",
              "    .colab-df-convert:hover {\n",
              "      background-color: #E2EBFA;\n",
              "      box-shadow: 0px 1px 2px rgba(60, 64, 67, 0.3), 0px 1px 3px 1px rgba(60, 64, 67, 0.15);\n",
              "      fill: #174EA6;\n",
              "    }\n",
              "\n",
              "    [theme=dark] .colab-df-convert {\n",
              "      background-color: #3B4455;\n",
              "      fill: #D2E3FC;\n",
              "    }\n",
              "\n",
              "    [theme=dark] .colab-df-convert:hover {\n",
              "      background-color: #434B5C;\n",
              "      box-shadow: 0px 1px 3px 1px rgba(0, 0, 0, 0.15);\n",
              "      filter: drop-shadow(0px 1px 2px rgba(0, 0, 0, 0.3));\n",
              "      fill: #FFFFFF;\n",
              "    }\n",
              "  </style>\n",
              "\n",
              "      <script>\n",
              "        const buttonEl =\n",
              "          document.querySelector('#df-afaa425a-02b4-4197-a959-78874b786d02 button.colab-df-convert');\n",
              "        buttonEl.style.display =\n",
              "          google.colab.kernel.accessAllowed ? 'block' : 'none';\n",
              "\n",
              "        async function convertToInteractive(key) {\n",
              "          const element = document.querySelector('#df-afaa425a-02b4-4197-a959-78874b786d02');\n",
              "          const dataTable =\n",
              "            await google.colab.kernel.invokeFunction('convertToInteractive',\n",
              "                                                     [key], {});\n",
              "          if (!dataTable) return;\n",
              "\n",
              "          const docLinkHtml = 'Like what you see? Visit the ' +\n",
              "            '<a target=\"_blank\" href=https://colab.research.google.com/notebooks/data_table.ipynb>data table notebook</a>'\n",
              "            + ' to learn more about interactive tables.';\n",
              "          element.innerHTML = '';\n",
              "          dataTable['output_type'] = 'display_data';\n",
              "          await google.colab.output.renderOutput(dataTable, element);\n",
              "          const docLink = document.createElement('div');\n",
              "          docLink.innerHTML = docLinkHtml;\n",
              "          element.appendChild(docLink);\n",
              "        }\n",
              "      </script>\n",
              "    </div>\n",
              "  </div>\n",
              "  "
            ],
            "text/plain": [
              "                   T24 CO2 emission estimates Unnamed: 2  \\\n",
              "0  Region/Country/Area                    NaN       Year   \n",
              "1                    8                Albania       1975   \n",
              "2                    8                Albania       1985   \n",
              "3                    8                Albania       2005   \n",
              "4                    8                Albania       2010   \n",
              "\n",
              "                                          Unnamed: 3 Unnamed: 4 Unnamed: 5  \\\n",
              "0                                             Series      Value  Footnotes   \n",
              "1  Emissions (thousand metric tons of carbon diox...      4,338        NaN   \n",
              "2  Emissions (thousand metric tons of carbon diox...      6,930        NaN   \n",
              "3  Emissions (thousand metric tons of carbon diox...      3,825        NaN   \n",
              "4  Emissions (thousand metric tons of carbon diox...      3,930        NaN   \n",
              "\n",
              "                                          Unnamed: 6  \n",
              "0                                             Source  \n",
              "1  International Energy Agency, IEA World Energy ...  \n",
              "2  International Energy Agency, IEA World Energy ...  \n",
              "3  International Energy Agency, IEA World Energy ...  \n",
              "4  International Energy Agency, IEA World Energy ...  "
            ]
          },
          "metadata": {},
          "execution_count": 16
        }
      ]
    },
    {
      "cell_type": "code",
      "source": [
        "IE = pd.read_csv(\"/content/Imports_exports.csv\", encoding = 'ISO-8859-1')\n",
        "IE.head()"
      ],
      "metadata": {
        "colab": {
          "base_uri": "https://localhost:8080/",
          "height": 545
        },
        "id": "6rT2i-Bw_p9_",
        "outputId": "47310e3a-5699-450b-b9f9-286e8172bd63"
      },
      "execution_count": null,
      "outputs": [
        {
          "output_type": "execute_result",
          "data": {
            "text/html": [
              "\n",
              "  <div id=\"df-3e38b37f-fad1-4bf6-9198-e9af26a458f5\">\n",
              "    <div class=\"colab-df-container\">\n",
              "      <div>\n",
              "<style scoped>\n",
              "    .dataframe tbody tr th:only-of-type {\n",
              "        vertical-align: middle;\n",
              "    }\n",
              "\n",
              "    .dataframe tbody tr th {\n",
              "        vertical-align: top;\n",
              "    }\n",
              "\n",
              "    .dataframe thead th {\n",
              "        text-align: right;\n",
              "    }\n",
              "</style>\n",
              "<table border=\"1\" class=\"dataframe\">\n",
              "  <thead>\n",
              "    <tr style=\"text-align: right;\">\n",
              "      <th></th>\n",
              "      <th>T19</th>\n",
              "      <th>Total imports, exports and balance of trade</th>\n",
              "      <th>Unnamed: 2</th>\n",
              "      <th>Unnamed: 3</th>\n",
              "      <th>Unnamed: 4</th>\n",
              "      <th>Unnamed: 5</th>\n",
              "      <th>Unnamed: 6</th>\n",
              "      <th>Unnamed: 7</th>\n",
              "      <th>Unnamed: 8</th>\n",
              "    </tr>\n",
              "  </thead>\n",
              "  <tbody>\n",
              "    <tr>\n",
              "      <th>0</th>\n",
              "      <td>Region/Country/Area</td>\n",
              "      <td>NaN</td>\n",
              "      <td>Year</td>\n",
              "      <td>Series</td>\n",
              "      <td>System of trade</td>\n",
              "      <td>System of trade footnote</td>\n",
              "      <td>Value</td>\n",
              "      <td>Footnotes</td>\n",
              "      <td>Source</td>\n",
              "    </tr>\n",
              "    <tr>\n",
              "      <th>1</th>\n",
              "      <td>1</td>\n",
              "      <td>Total, all countries or areas</td>\n",
              "      <td>1995</td>\n",
              "      <td>Imports CIF (millions of US dollars)</td>\n",
              "      <td>NaN</td>\n",
              "      <td>NaN</td>\n",
              "      <td>5,099,057</td>\n",
              "      <td>NaN</td>\n",
              "      <td>United Nations Statistics Division, New York, ...</td>\n",
              "    </tr>\n",
              "    <tr>\n",
              "      <th>2</th>\n",
              "      <td>1</td>\n",
              "      <td>Total, all countries or areas</td>\n",
              "      <td>2005</td>\n",
              "      <td>Imports CIF (millions of US dollars)</td>\n",
              "      <td>NaN</td>\n",
              "      <td>NaN</td>\n",
              "      <td>10,577,013</td>\n",
              "      <td>NaN</td>\n",
              "      <td>United Nations Statistics Division, New York, ...</td>\n",
              "    </tr>\n",
              "    <tr>\n",
              "      <th>3</th>\n",
              "      <td>1</td>\n",
              "      <td>Total, all countries or areas</td>\n",
              "      <td>2010</td>\n",
              "      <td>Imports CIF (millions of US dollars)</td>\n",
              "      <td>NaN</td>\n",
              "      <td>NaN</td>\n",
              "      <td>15,275,115</td>\n",
              "      <td>NaN</td>\n",
              "      <td>United Nations Statistics Division, New York, ...</td>\n",
              "    </tr>\n",
              "    <tr>\n",
              "      <th>4</th>\n",
              "      <td>1</td>\n",
              "      <td>Total, all countries or areas</td>\n",
              "      <td>2015</td>\n",
              "      <td>Imports CIF (millions of US dollars)</td>\n",
              "      <td>NaN</td>\n",
              "      <td>NaN</td>\n",
              "      <td>16,482,346</td>\n",
              "      <td>NaN</td>\n",
              "      <td>United Nations Statistics Division, New York, ...</td>\n",
              "    </tr>\n",
              "  </tbody>\n",
              "</table>\n",
              "</div>\n",
              "      <button class=\"colab-df-convert\" onclick=\"convertToInteractive('df-3e38b37f-fad1-4bf6-9198-e9af26a458f5')\"\n",
              "              title=\"Convert this dataframe to an interactive table.\"\n",
              "              style=\"display:none;\">\n",
              "        \n",
              "  <svg xmlns=\"http://www.w3.org/2000/svg\" height=\"24px\"viewBox=\"0 0 24 24\"\n",
              "       width=\"24px\">\n",
              "    <path d=\"M0 0h24v24H0V0z\" fill=\"none\"/>\n",
              "    <path d=\"M18.56 5.44l.94 2.06.94-2.06 2.06-.94-2.06-.94-.94-2.06-.94 2.06-2.06.94zm-11 1L8.5 8.5l.94-2.06 2.06-.94-2.06-.94L8.5 2.5l-.94 2.06-2.06.94zm10 10l.94 2.06.94-2.06 2.06-.94-2.06-.94-.94-2.06-.94 2.06-2.06.94z\"/><path d=\"M17.41 7.96l-1.37-1.37c-.4-.4-.92-.59-1.43-.59-.52 0-1.04.2-1.43.59L10.3 9.45l-7.72 7.72c-.78.78-.78 2.05 0 2.83L4 21.41c.39.39.9.59 1.41.59.51 0 1.02-.2 1.41-.59l7.78-7.78 2.81-2.81c.8-.78.8-2.07 0-2.86zM5.41 20L4 18.59l7.72-7.72 1.47 1.35L5.41 20z\"/>\n",
              "  </svg>\n",
              "      </button>\n",
              "      \n",
              "  <style>\n",
              "    .colab-df-container {\n",
              "      display:flex;\n",
              "      flex-wrap:wrap;\n",
              "      gap: 12px;\n",
              "    }\n",
              "\n",
              "    .colab-df-convert {\n",
              "      background-color: #E8F0FE;\n",
              "      border: none;\n",
              "      border-radius: 50%;\n",
              "      cursor: pointer;\n",
              "      display: none;\n",
              "      fill: #1967D2;\n",
              "      height: 32px;\n",
              "      padding: 0 0 0 0;\n",
              "      width: 32px;\n",
              "    }\n",
              "\n",
              "    .colab-df-convert:hover {\n",
              "      background-color: #E2EBFA;\n",
              "      box-shadow: 0px 1px 2px rgba(60, 64, 67, 0.3), 0px 1px 3px 1px rgba(60, 64, 67, 0.15);\n",
              "      fill: #174EA6;\n",
              "    }\n",
              "\n",
              "    [theme=dark] .colab-df-convert {\n",
              "      background-color: #3B4455;\n",
              "      fill: #D2E3FC;\n",
              "    }\n",
              "\n",
              "    [theme=dark] .colab-df-convert:hover {\n",
              "      background-color: #434B5C;\n",
              "      box-shadow: 0px 1px 3px 1px rgba(0, 0, 0, 0.15);\n",
              "      filter: drop-shadow(0px 1px 2px rgba(0, 0, 0, 0.3));\n",
              "      fill: #FFFFFF;\n",
              "    }\n",
              "  </style>\n",
              "\n",
              "      <script>\n",
              "        const buttonEl =\n",
              "          document.querySelector('#df-3e38b37f-fad1-4bf6-9198-e9af26a458f5 button.colab-df-convert');\n",
              "        buttonEl.style.display =\n",
              "          google.colab.kernel.accessAllowed ? 'block' : 'none';\n",
              "\n",
              "        async function convertToInteractive(key) {\n",
              "          const element = document.querySelector('#df-3e38b37f-fad1-4bf6-9198-e9af26a458f5');\n",
              "          const dataTable =\n",
              "            await google.colab.kernel.invokeFunction('convertToInteractive',\n",
              "                                                     [key], {});\n",
              "          if (!dataTable) return;\n",
              "\n",
              "          const docLinkHtml = 'Like what you see? Visit the ' +\n",
              "            '<a target=\"_blank\" href=https://colab.research.google.com/notebooks/data_table.ipynb>data table notebook</a>'\n",
              "            + ' to learn more about interactive tables.';\n",
              "          element.innerHTML = '';\n",
              "          dataTable['output_type'] = 'display_data';\n",
              "          await google.colab.output.renderOutput(dataTable, element);\n",
              "          const docLink = document.createElement('div');\n",
              "          docLink.innerHTML = docLinkHtml;\n",
              "          element.appendChild(docLink);\n",
              "        }\n",
              "      </script>\n",
              "    </div>\n",
              "  </div>\n",
              "  "
            ],
            "text/plain": [
              "                   T19 Total imports, exports and balance of trade Unnamed: 2  \\\n",
              "0  Region/Country/Area                                         NaN       Year   \n",
              "1                    1               Total, all countries or areas       1995   \n",
              "2                    1               Total, all countries or areas       2005   \n",
              "3                    1               Total, all countries or areas       2010   \n",
              "4                    1               Total, all countries or areas       2015   \n",
              "\n",
              "                             Unnamed: 3       Unnamed: 4  \\\n",
              "0                                Series  System of trade   \n",
              "1  Imports CIF (millions of US dollars)              NaN   \n",
              "2  Imports CIF (millions of US dollars)              NaN   \n",
              "3  Imports CIF (millions of US dollars)              NaN   \n",
              "4  Imports CIF (millions of US dollars)              NaN   \n",
              "\n",
              "                 Unnamed: 5  Unnamed: 6 Unnamed: 7  \\\n",
              "0  System of trade footnote       Value  Footnotes   \n",
              "1                       NaN   5,099,057        NaN   \n",
              "2                       NaN  10,577,013        NaN   \n",
              "3                       NaN  15,275,115        NaN   \n",
              "4                       NaN  16,482,346        NaN   \n",
              "\n",
              "                                          Unnamed: 8  \n",
              "0                                             Source  \n",
              "1  United Nations Statistics Division, New York, ...  \n",
              "2  United Nations Statistics Division, New York, ...  \n",
              "3  United Nations Statistics Division, New York, ...  \n",
              "4  United Nations Statistics Division, New York, ...  "
            ]
          },
          "metadata": {},
          "execution_count": 17
        }
      ]
    },
    {
      "cell_type": "code",
      "source": [
        "Internet_usage = pd.read_csv(\"/content/Internet_usage.csv\",encoding = 'ISO-8859-1')\n",
        "Internet_usage.head()"
      ],
      "metadata": {
        "colab": {
          "base_uri": "https://localhost:8080/",
          "height": 406
        },
        "id": "t5fqx4KrAljG",
        "outputId": "4eeaa7ef-2db2-463e-e7d5-bb65c06a5638"
      },
      "execution_count": null,
      "outputs": [
        {
          "output_type": "execute_result",
          "data": {
            "text/html": [
              "\n",
              "  <div id=\"df-4fa6ad31-3602-4a87-9d16-bc0f4dee0cd3\">\n",
              "    <div class=\"colab-df-container\">\n",
              "      <div>\n",
              "<style scoped>\n",
              "    .dataframe tbody tr th:only-of-type {\n",
              "        vertical-align: middle;\n",
              "    }\n",
              "\n",
              "    .dataframe tbody tr th {\n",
              "        vertical-align: top;\n",
              "    }\n",
              "\n",
              "    .dataframe thead th {\n",
              "        text-align: right;\n",
              "    }\n",
              "</style>\n",
              "<table border=\"1\" class=\"dataframe\">\n",
              "  <thead>\n",
              "    <tr style=\"text-align: right;\">\n",
              "      <th></th>\n",
              "      <th>T29</th>\n",
              "      <th>Internet Usage</th>\n",
              "      <th>Unnamed: 2</th>\n",
              "      <th>Unnamed: 3</th>\n",
              "      <th>Unnamed: 4</th>\n",
              "      <th>Unnamed: 5</th>\n",
              "      <th>Unnamed: 6</th>\n",
              "    </tr>\n",
              "  </thead>\n",
              "  <tbody>\n",
              "    <tr>\n",
              "      <th>0</th>\n",
              "      <td>Region/Country/Area</td>\n",
              "      <td>NaN</td>\n",
              "      <td>Year</td>\n",
              "      <td>Series</td>\n",
              "      <td>Value</td>\n",
              "      <td>Footnotes</td>\n",
              "      <td>Source</td>\n",
              "    </tr>\n",
              "    <tr>\n",
              "      <th>1</th>\n",
              "      <td>1</td>\n",
              "      <td>Total, all countries or areas</td>\n",
              "      <td>2000</td>\n",
              "      <td>Percentage of individuals using the internet</td>\n",
              "      <td>6.5</td>\n",
              "      <td>NaN</td>\n",
              "      <td>International Telecommunication Union (ITU), G...</td>\n",
              "    </tr>\n",
              "    <tr>\n",
              "      <th>2</th>\n",
              "      <td>1</td>\n",
              "      <td>Total, all countries or areas</td>\n",
              "      <td>2005</td>\n",
              "      <td>Percentage of individuals using the internet</td>\n",
              "      <td>16.8</td>\n",
              "      <td>NaN</td>\n",
              "      <td>International Telecommunication Union (ITU), G...</td>\n",
              "    </tr>\n",
              "    <tr>\n",
              "      <th>3</th>\n",
              "      <td>1</td>\n",
              "      <td>Total, all countries or areas</td>\n",
              "      <td>2010</td>\n",
              "      <td>Percentage of individuals using the internet</td>\n",
              "      <td>29.3</td>\n",
              "      <td>NaN</td>\n",
              "      <td>International Telecommunication Union (ITU), G...</td>\n",
              "    </tr>\n",
              "    <tr>\n",
              "      <th>4</th>\n",
              "      <td>1</td>\n",
              "      <td>Total, all countries or areas</td>\n",
              "      <td>2015</td>\n",
              "      <td>Percentage of individuals using the internet</td>\n",
              "      <td>41.1</td>\n",
              "      <td>NaN</td>\n",
              "      <td>International Telecommunication Union (ITU), G...</td>\n",
              "    </tr>\n",
              "  </tbody>\n",
              "</table>\n",
              "</div>\n",
              "      <button class=\"colab-df-convert\" onclick=\"convertToInteractive('df-4fa6ad31-3602-4a87-9d16-bc0f4dee0cd3')\"\n",
              "              title=\"Convert this dataframe to an interactive table.\"\n",
              "              style=\"display:none;\">\n",
              "        \n",
              "  <svg xmlns=\"http://www.w3.org/2000/svg\" height=\"24px\"viewBox=\"0 0 24 24\"\n",
              "       width=\"24px\">\n",
              "    <path d=\"M0 0h24v24H0V0z\" fill=\"none\"/>\n",
              "    <path d=\"M18.56 5.44l.94 2.06.94-2.06 2.06-.94-2.06-.94-.94-2.06-.94 2.06-2.06.94zm-11 1L8.5 8.5l.94-2.06 2.06-.94-2.06-.94L8.5 2.5l-.94 2.06-2.06.94zm10 10l.94 2.06.94-2.06 2.06-.94-2.06-.94-.94-2.06-.94 2.06-2.06.94z\"/><path d=\"M17.41 7.96l-1.37-1.37c-.4-.4-.92-.59-1.43-.59-.52 0-1.04.2-1.43.59L10.3 9.45l-7.72 7.72c-.78.78-.78 2.05 0 2.83L4 21.41c.39.39.9.59 1.41.59.51 0 1.02-.2 1.41-.59l7.78-7.78 2.81-2.81c.8-.78.8-2.07 0-2.86zM5.41 20L4 18.59l7.72-7.72 1.47 1.35L5.41 20z\"/>\n",
              "  </svg>\n",
              "      </button>\n",
              "      \n",
              "  <style>\n",
              "    .colab-df-container {\n",
              "      display:flex;\n",
              "      flex-wrap:wrap;\n",
              "      gap: 12px;\n",
              "    }\n",
              "\n",
              "    .colab-df-convert {\n",
              "      background-color: #E8F0FE;\n",
              "      border: none;\n",
              "      border-radius: 50%;\n",
              "      cursor: pointer;\n",
              "      display: none;\n",
              "      fill: #1967D2;\n",
              "      height: 32px;\n",
              "      padding: 0 0 0 0;\n",
              "      width: 32px;\n",
              "    }\n",
              "\n",
              "    .colab-df-convert:hover {\n",
              "      background-color: #E2EBFA;\n",
              "      box-shadow: 0px 1px 2px rgba(60, 64, 67, 0.3), 0px 1px 3px 1px rgba(60, 64, 67, 0.15);\n",
              "      fill: #174EA6;\n",
              "    }\n",
              "\n",
              "    [theme=dark] .colab-df-convert {\n",
              "      background-color: #3B4455;\n",
              "      fill: #D2E3FC;\n",
              "    }\n",
              "\n",
              "    [theme=dark] .colab-df-convert:hover {\n",
              "      background-color: #434B5C;\n",
              "      box-shadow: 0px 1px 3px 1px rgba(0, 0, 0, 0.15);\n",
              "      filter: drop-shadow(0px 1px 2px rgba(0, 0, 0, 0.3));\n",
              "      fill: #FFFFFF;\n",
              "    }\n",
              "  </style>\n",
              "\n",
              "      <script>\n",
              "        const buttonEl =\n",
              "          document.querySelector('#df-4fa6ad31-3602-4a87-9d16-bc0f4dee0cd3 button.colab-df-convert');\n",
              "        buttonEl.style.display =\n",
              "          google.colab.kernel.accessAllowed ? 'block' : 'none';\n",
              "\n",
              "        async function convertToInteractive(key) {\n",
              "          const element = document.querySelector('#df-4fa6ad31-3602-4a87-9d16-bc0f4dee0cd3');\n",
              "          const dataTable =\n",
              "            await google.colab.kernel.invokeFunction('convertToInteractive',\n",
              "                                                     [key], {});\n",
              "          if (!dataTable) return;\n",
              "\n",
              "          const docLinkHtml = 'Like what you see? Visit the ' +\n",
              "            '<a target=\"_blank\" href=https://colab.research.google.com/notebooks/data_table.ipynb>data table notebook</a>'\n",
              "            + ' to learn more about interactive tables.';\n",
              "          element.innerHTML = '';\n",
              "          dataTable['output_type'] = 'display_data';\n",
              "          await google.colab.output.renderOutput(dataTable, element);\n",
              "          const docLink = document.createElement('div');\n",
              "          docLink.innerHTML = docLinkHtml;\n",
              "          element.appendChild(docLink);\n",
              "        }\n",
              "      </script>\n",
              "    </div>\n",
              "  </div>\n",
              "  "
            ],
            "text/plain": [
              "                   T29                 Internet Usage Unnamed: 2  \\\n",
              "0  Region/Country/Area                            NaN       Year   \n",
              "1                    1  Total, all countries or areas       2000   \n",
              "2                    1  Total, all countries or areas       2005   \n",
              "3                    1  Total, all countries or areas       2010   \n",
              "4                    1  Total, all countries or areas       2015   \n",
              "\n",
              "                                     Unnamed: 3 Unnamed: 4 Unnamed: 5  \\\n",
              "0                                        Series      Value  Footnotes   \n",
              "1  Percentage of individuals using the internet        6.5        NaN   \n",
              "2  Percentage of individuals using the internet       16.8        NaN   \n",
              "3  Percentage of individuals using the internet       29.3        NaN   \n",
              "4  Percentage of individuals using the internet       41.1        NaN   \n",
              "\n",
              "                                          Unnamed: 6  \n",
              "0                                             Source  \n",
              "1  International Telecommunication Union (ITU), G...  \n",
              "2  International Telecommunication Union (ITU), G...  \n",
              "3  International Telecommunication Union (ITU), G...  \n",
              "4  International Telecommunication Union (ITU), G...  "
            ]
          },
          "metadata": {},
          "execution_count": 18
        }
      ]
    },
    {
      "cell_type": "markdown",
      "source": [
        "# Question 2 : Creating a spark local cluster"
      ],
      "metadata": {
        "id": "6qvUZ2RRBVAQ"
      }
    },
    {
      "cell_type": "markdown",
      "source": [
        "## Setting up pySpark"
      ],
      "metadata": {
        "id": "ytJ_z0FSCCi7"
      }
    },
    {
      "cell_type": "code",
      "metadata": {
        "id": "O9PS_gt-_Qq8"
      },
      "source": [
        "!apt-get install openjdk-8-jdk-headless -qq > /dev/null\n"
      ],
      "execution_count": null,
      "outputs": []
    },
    {
      "cell_type": "code",
      "metadata": {
        "id": "2r9CECSwASIt"
      },
      "source": [
        "#install apache(http://spark.apache.org/downloads.html)\n",
        "\n",
        "!wget -q https://archive.apache.org/dist/spark/spark-3.1.1/spark-3.1.1-bin-hadoop2.7.tgz\n"
      ],
      "execution_count": null,
      "outputs": []
    },
    {
      "cell_type": "code",
      "source": [
        "# View all the files in this directory\n",
        "!ls"
      ],
      "metadata": {
        "colab": {
          "base_uri": "https://localhost:8080/"
        },
        "id": "ObNKSRcLDS9C",
        "outputId": "e1942b9d-8ed7-4330-a80c-35bc910c3615"
      },
      "execution_count": null,
      "outputs": [
        {
          "output_type": "stream",
          "name": "stdout",
          "text": [
            "CO2_emission.csv     Internet_usage.csv  spark-3.1.1-bin-hadoop2.7\n",
            "Imports_exports.csv  sample_data\t spark-3.1.1-bin-hadoop2.7.tgz\n"
          ]
        }
      ]
    },
    {
      "cell_type": "code",
      "metadata": {
        "id": "FSojFgWrAeHU"
      },
      "source": [
        "#unzip the folder\n",
        "!tar xf spark-3.1.1-bin-hadoop2.7.tgz\n"
      ],
      "execution_count": null,
      "outputs": []
    },
    {
      "cell_type": "code",
      "metadata": {
        "id": "vJyMuVylAmBk"
      },
      "source": [
        "\"\"\"\n",
        "we need to install findspark to help as locate the disk and import it as a single library\n",
        "https://pypi.org/project/findspark/\n",
        "\"\"\"\n",
        "!pip install -q findspark\n"
      ],
      "execution_count": null,
      "outputs": []
    },
    {
      "cell_type": "markdown",
      "source": [
        "## Setting up environment variable to run pySpark"
      ],
      "metadata": {
        "id": "VlfPF2J_EFla"
      }
    },
    {
      "cell_type": "code",
      "source": [
        "import os\n",
        "os.environ[\"JAVA_HOME\"] = \"/usr/lib/jvm/java-8-openjdk-amd64\"\n",
        "os.environ[\"SPARK_HOME\"] = \"/content/spark-3.1.1-bin-hadoop2.7\""
      ],
      "metadata": {
        "id": "Ps4L4KNgENyp"
      },
      "execution_count": null,
      "outputs": []
    },
    {
      "cell_type": "code",
      "metadata": {
        "id": "tsL0v485CRis"
      },
      "source": [
        " #locate spark\n",
        "import findspark\n",
        "findspark.init()"
      ],
      "execution_count": null,
      "outputs": []
    },
    {
      "cell_type": "code",
      "source": [
        "# Install pySpark\n",
        "! pip install pySpark"
      ],
      "metadata": {
        "colab": {
          "base_uri": "https://localhost:8080/"
        },
        "id": "t5bnUksSE1SJ",
        "outputId": "4c4f95c1-d4f8-496e-8405-f1912f647d0d"
      },
      "execution_count": null,
      "outputs": [
        {
          "output_type": "stream",
          "name": "stdout",
          "text": [
            "Collecting pySpark\n",
            "  Downloading pyspark-3.2.1.tar.gz (281.4 MB)\n",
            "\u001b[K     |████████████████████████████████| 281.4 MB 33 kB/s \n",
            "\u001b[?25hCollecting py4j==0.10.9.3\n",
            "  Downloading py4j-0.10.9.3-py2.py3-none-any.whl (198 kB)\n",
            "\u001b[K     |████████████████████████████████| 198 kB 41.7 MB/s \n",
            "\u001b[?25hBuilding wheels for collected packages: pySpark\n",
            "  Building wheel for pySpark (setup.py) ... \u001b[?25l\u001b[?25hdone\n",
            "  Created wheel for pySpark: filename=pyspark-3.2.1-py2.py3-none-any.whl size=281853642 sha256=fd2e30903b4f67eb6af3a43392b756035f12c84e5299ee2c52aeaabda4243014\n",
            "  Stored in directory: /root/.cache/pip/wheels/9f/f5/07/7cd8017084dce4e93e84e92efd1e1d5334db05f2e83bcef74f\n",
            "Successfully built pySpark\n",
            "Installing collected packages: py4j, pySpark\n",
            "Successfully installed py4j-0.10.9.3 pySpark-3.2.1\n"
          ]
        }
      ]
    },
    {
      "cell_type": "code",
      "source": [
        "findspark.find()"
      ],
      "metadata": {
        "colab": {
          "base_uri": "https://localhost:8080/",
          "height": 35
        },
        "id": "JFlkkmf_FTSc",
        "outputId": "f40756e0-e10d-4218-e84d-7d919021b9cb"
      },
      "execution_count": null,
      "outputs": [
        {
          "output_type": "execute_result",
          "data": {
            "application/vnd.google.colaboratory.intrinsic+json": {
              "type": "string"
            },
            "text/plain": [
              "'/content/spark-3.1.1-bin-hadoop2.7'"
            ]
          },
          "metadata": {},
          "execution_count": 29
        }
      ]
    },
    {
      "cell_type": "markdown",
      "source": [
        "### Creating SparkSession as the entry point of Spark"
      ],
      "metadata": {
        "id": "4rrXeb8dFhZy"
      }
    },
    {
      "cell_type": "code",
      "source": [
        "from pyspark.sql import SparkSession\n"
      ],
      "metadata": {
        "id": "CkHi1WFqFo_P"
      },
      "execution_count": null,
      "outputs": []
    },
    {
      "cell_type": "code",
      "source": [
        "spark = SparkSession.builder.master(\"local\").appName(\"Colab\").config('spark.ui.port','4050').getOrCreate()"
      ],
      "metadata": {
        "id": "1FYZwwxTGA-C"
      },
      "execution_count": null,
      "outputs": []
    },
    {
      "cell_type": "code",
      "source": [
        "#Local spark cluster\n",
        "spark"
      ],
      "metadata": {
        "colab": {
          "base_uri": "https://localhost:8080/",
          "height": 219
        },
        "id": "aPf7X88QHh0L",
        "outputId": "177067f0-9358-4d2b-cfac-05a764a7d229"
      },
      "execution_count": null,
      "outputs": [
        {
          "output_type": "execute_result",
          "data": {
            "text/html": [
              "\n",
              "            <div>\n",
              "                <p><b>SparkSession - in-memory</b></p>\n",
              "                \n",
              "        <div>\n",
              "            <p><b>SparkContext</b></p>\n",
              "\n",
              "            <p><a href=\"http://f462d5b542d0:4050\">Spark UI</a></p>\n",
              "\n",
              "            <dl>\n",
              "              <dt>Version</dt>\n",
              "                <dd><code>v3.1.1</code></dd>\n",
              "              <dt>Master</dt>\n",
              "                <dd><code>local</code></dd>\n",
              "              <dt>AppName</dt>\n",
              "                <dd><code>Colab</code></dd>\n",
              "            </dl>\n",
              "        </div>\n",
              "        \n",
              "            </div>\n",
              "        "
            ],
            "text/plain": [
              "<pyspark.sql.session.SparkSession at 0x7fa3b6c46390>"
            ]
          },
          "metadata": {},
          "execution_count": 33
        }
      ]
    },
    {
      "cell_type": "markdown",
      "source": [
        "# Question 3 : Copying the three csv files into the cluster"
      ],
      "metadata": {
        "id": "ni9s7_rqH6gj"
      }
    },
    {
      "cell_type": "code",
      "source": [
        "df1 = spark.read.csv('/content/CO2_emission.csv',header = True,inferSchema = True)\n",
        "df2 = spark.read.csv('/content/Imports_exports.csv',header = True, inferSchema=True)\n",
        "df3 = spark.read.csv('/content/Internet_usage.csv',header = True,inferSchema=True)"
      ],
      "metadata": {
        "id": "ZChoRMMkIHwK"
      },
      "execution_count": null,
      "outputs": []
    },
    {
      "cell_type": "code",
      "source": [
        "#Loading all three csv files into spark\n",
        "paths = [\"/content/CO2_emission.csv\",\"/content/Imports_exports.csv\",\"/content/Internet_usage.csv\"]\n",
        "df4 = spark.read.csv(paths,header = True,inferSchema = True)"
      ],
      "metadata": {
        "id": "uM06LIyfJ8Ca"
      },
      "execution_count": null,
      "outputs": []
    },
    {
      "cell_type": "code",
      "source": [
        "df4.printSchema"
      ],
      "metadata": {
        "colab": {
          "base_uri": "https://localhost:8080/"
        },
        "id": "rdy32_eJKjTp",
        "outputId": "7c22606e-2406-412f-b939-559777e907fb"
      },
      "execution_count": null,
      "outputs": [
        {
          "output_type": "execute_result",
          "data": {
            "text/plain": [
              "<bound method DataFrame.printSchema of DataFrame[T19: string, Total imports, exports and balance of trade: string, _c2: string, _c3: string, _c4: string, _c5: string, _c6: string, _c7: string, _c8: string]>"
            ]
          },
          "metadata": {},
          "execution_count": 37
        }
      ]
    },
    {
      "cell_type": "markdown",
      "source": [
        "# Question 4 : Queries on the cluster"
      ],
      "metadata": {
        "id": "pdvNsUjiKuE1"
      }
    },
    {
      "cell_type": "code",
      "source": [
        "df4.show()"
      ],
      "metadata": {
        "colab": {
          "base_uri": "https://localhost:8080/"
        },
        "id": "P0XQ8s_hK4yX",
        "outputId": "5f16cbe6-25b7-478d-f3bd-7293340d63f9"
      },
      "execution_count": null,
      "outputs": [
        {
          "output_type": "stream",
          "name": "stdout",
          "text": [
            "+-------------------+-------------------------------------------+----+--------------------+---------------+--------------------+----------+---------+--------------------+\n",
            "|                T19|Total imports, exports and balance of trade| _c2|                 _c3|            _c4|                 _c5|       _c6|      _c7|                 _c8|\n",
            "+-------------------+-------------------------------------------+----+--------------------+---------------+--------------------+----------+---------+--------------------+\n",
            "|Region/Country/Area|                                       null|Year|              Series|System of trade|System of trade f...|     Value|Footnotes|              Source|\n",
            "|                  1|                       Total, all countr...|1995|Imports CIF (mill...|           null|                null| 5,099,057|     null|United Nations St...|\n",
            "|                  1|                       Total, all countr...|2005|Imports CIF (mill...|           null|                null|10,577,013|     null|United Nations St...|\n",
            "|                  1|                       Total, all countr...|2010|Imports CIF (mill...|           null|                null|15,275,115|     null|United Nations St...|\n",
            "|                  1|                       Total, all countr...|2015|Imports CIF (mill...|           null|                null|16,482,346|     null|United Nations St...|\n",
            "|                  1|                       Total, all countr...|2018|Imports CIF (mill...|           null|                null|19,448,147|     null|United Nations St...|\n",
            "|                  1|                       Total, all countr...|2019|Imports CIF (mill...|           null|                null|18,870,155|     null|United Nations St...|\n",
            "|                  1|                       Total, all countr...|2020|Imports CIF (mill...|           null|                null|17,552,638|     null|United Nations St...|\n",
            "|                  1|                       Total, all countr...|1995|Exports FOB (mill...|           null|                null| 5,050,238|     null|United Nations St...|\n",
            "|                  1|                       Total, all countr...|2005|Exports FOB (mill...|           null|                null|10,373,445|     null|United Nations St...|\n",
            "|                  1|                       Total, all countr...|2010|Exports FOB (mill...|           null|                null|15,102,218|     null|United Nations St...|\n",
            "|                  1|                       Total, all countr...|2015|Exports FOB (mill...|           null|                null|16,384,279|     null|United Nations St...|\n",
            "|                  1|                       Total, all countr...|2018|Exports FOB (mill...|           null|                null|19,108,071|     null|United Nations St...|\n",
            "|                  1|                       Total, all countr...|2019|Exports FOB (mill...|           null|                null|18,585,471|     null|United Nations St...|\n",
            "|                  1|                       Total, all countr...|2020|Exports FOB (mill...|           null|                null|17,480,150|     null|United Nations St...|\n",
            "|                  1|                       Total, all countr...|1995|Balance imports/e...|           null|                null|   -48,819|     null|United Nations St...|\n",
            "|                  1|                       Total, all countr...|2005|Balance imports/e...|           null|                null|  -203,568|     null|United Nations St...|\n",
            "|                  1|                       Total, all countr...|2010|Balance imports/e...|           null|                null|  -172,897|     null|United Nations St...|\n",
            "|                  1|                       Total, all countr...|2015|Balance imports/e...|           null|                null|   -98,067|     null|United Nations St...|\n",
            "|                  1|                       Total, all countr...|2018|Balance imports/e...|           null|                null|  -340,076|     null|United Nations St...|\n",
            "+-------------------+-------------------------------------------+----+--------------------+---------------+--------------------+----------+---------+--------------------+\n",
            "only showing top 20 rows\n",
            "\n"
          ]
        }
      ]
    },
    {
      "cell_type": "code",
      "source": [
        "df1.show()"
      ],
      "metadata": {
        "colab": {
          "base_uri": "https://localhost:8080/"
        },
        "id": "vgLn7M8nLC_v",
        "outputId": "0c1cb8b8-1997-4edf-982b-12a84f56a02e"
      },
      "execution_count": null,
      "outputs": [
        {
          "output_type": "stream",
          "name": "stdout",
          "text": [
            "+-------------------+----------------------+----+--------------------+------+---------+--------------------+\n",
            "|                T24|CO2 emission estimates| _c2|                 _c3|   _c4|      _c5|                 _c6|\n",
            "+-------------------+----------------------+----+--------------------+------+---------+--------------------+\n",
            "|Region/Country/Area|                  null|Year|              Series| Value|Footnotes|              Source|\n",
            "|                  8|               Albania|1975|Emissions (thousa...| 4,338|     null|International Ene...|\n",
            "|                  8|               Albania|1985|Emissions (thousa...| 6,930|     null|International Ene...|\n",
            "|                  8|               Albania|2005|Emissions (thousa...| 3,825|     null|International Ene...|\n",
            "|                  8|               Albania|2010|Emissions (thousa...| 3,930|     null|International Ene...|\n",
            "|                  8|               Albania|2015|Emissions (thousa...| 3,825|     null|International Ene...|\n",
            "|                  8|               Albania|2016|Emissions (thousa...| 3,674|     null|International Ene...|\n",
            "|                  8|               Albania|2017|Emissions (thousa...| 4,342|     null|International Ene...|\n",
            "|                  8|               Albania|2018|Emissions (thousa...| 4,303|     null|International Ene...|\n",
            "|                  8|               Albania|1975|Emissions per cap...|   1.8|     null|International Ene...|\n",
            "|                  8|               Albania|1985|Emissions per cap...|   2.3|     null|International Ene...|\n",
            "|                  8|               Albania|2005|Emissions per cap...|   1.3|     null|International Ene...|\n",
            "|                  8|               Albania|2010|Emissions per cap...|   1.3|     null|International Ene...|\n",
            "|                  8|               Albania|2015|Emissions per cap...|   1.3|     null|International Ene...|\n",
            "|                  8|               Albania|2016|Emissions per cap...|   1.3|     null|International Ene...|\n",
            "|                  8|               Albania|2017|Emissions per cap...|   1.5|     null|International Ene...|\n",
            "|                  8|               Albania|2018|Emissions per cap...|   1.5|     null|International Ene...|\n",
            "|                 12|               Algeria|1975|Emissions (thousa...|13,553|     null|International Ene...|\n",
            "|                 12|               Algeria|1985|Emissions (thousa...|42,073|     null|International Ene...|\n",
            "|                 12|               Algeria|2005|Emissions (thousa...|77,474|     null|International Ene...|\n",
            "+-------------------+----------------------+----+--------------------+------+---------+--------------------+\n",
            "only showing top 20 rows\n",
            "\n"
          ]
        }
      ]
    },
    {
      "cell_type": "code",
      "source": [
        "df2.show()"
      ],
      "metadata": {
        "colab": {
          "base_uri": "https://localhost:8080/"
        },
        "id": "A1Z1a8p7K1KH",
        "outputId": "58c36259-a053-4460-83f7-e9fd8f53a2e4"
      },
      "execution_count": null,
      "outputs": [
        {
          "output_type": "stream",
          "name": "stdout",
          "text": [
            "+-------------------+-------------------------------------------+----+--------------------+---------------+--------------------+----------+---------+--------------------+\n",
            "|                T19|Total imports, exports and balance of trade| _c2|                 _c3|            _c4|                 _c5|       _c6|      _c7|                 _c8|\n",
            "+-------------------+-------------------------------------------+----+--------------------+---------------+--------------------+----------+---------+--------------------+\n",
            "|Region/Country/Area|                                       null|Year|              Series|System of trade|System of trade f...|     Value|Footnotes|              Source|\n",
            "|                  1|                       Total, all countr...|1995|Imports CIF (mill...|           null|                null| 5,099,057|     null|United Nations St...|\n",
            "|                  1|                       Total, all countr...|2005|Imports CIF (mill...|           null|                null|10,577,013|     null|United Nations St...|\n",
            "|                  1|                       Total, all countr...|2010|Imports CIF (mill...|           null|                null|15,275,115|     null|United Nations St...|\n",
            "|                  1|                       Total, all countr...|2015|Imports CIF (mill...|           null|                null|16,482,346|     null|United Nations St...|\n",
            "|                  1|                       Total, all countr...|2018|Imports CIF (mill...|           null|                null|19,448,147|     null|United Nations St...|\n",
            "|                  1|                       Total, all countr...|2019|Imports CIF (mill...|           null|                null|18,870,155|     null|United Nations St...|\n",
            "|                  1|                       Total, all countr...|2020|Imports CIF (mill...|           null|                null|17,552,638|     null|United Nations St...|\n",
            "|                  1|                       Total, all countr...|1995|Exports FOB (mill...|           null|                null| 5,050,238|     null|United Nations St...|\n",
            "|                  1|                       Total, all countr...|2005|Exports FOB (mill...|           null|                null|10,373,445|     null|United Nations St...|\n",
            "|                  1|                       Total, all countr...|2010|Exports FOB (mill...|           null|                null|15,102,218|     null|United Nations St...|\n",
            "|                  1|                       Total, all countr...|2015|Exports FOB (mill...|           null|                null|16,384,279|     null|United Nations St...|\n",
            "|                  1|                       Total, all countr...|2018|Exports FOB (mill...|           null|                null|19,108,071|     null|United Nations St...|\n",
            "|                  1|                       Total, all countr...|2019|Exports FOB (mill...|           null|                null|18,585,471|     null|United Nations St...|\n",
            "|                  1|                       Total, all countr...|2020|Exports FOB (mill...|           null|                null|17,480,150|     null|United Nations St...|\n",
            "|                  1|                       Total, all countr...|1995|Balance imports/e...|           null|                null|   -48,819|     null|United Nations St...|\n",
            "|                  1|                       Total, all countr...|2005|Balance imports/e...|           null|                null|  -203,568|     null|United Nations St...|\n",
            "|                  1|                       Total, all countr...|2010|Balance imports/e...|           null|                null|  -172,897|     null|United Nations St...|\n",
            "|                  1|                       Total, all countr...|2015|Balance imports/e...|           null|                null|   -98,067|     null|United Nations St...|\n",
            "|                  1|                       Total, all countr...|2018|Balance imports/e...|           null|                null|  -340,076|     null|United Nations St...|\n",
            "+-------------------+-------------------------------------------+----+--------------------+---------------+--------------------+----------+---------+--------------------+\n",
            "only showing top 20 rows\n",
            "\n"
          ]
        }
      ]
    },
    {
      "cell_type": "code",
      "source": [
        "df3.show()"
      ],
      "metadata": {
        "colab": {
          "base_uri": "https://localhost:8080/"
        },
        "id": "HH2Z2NZRLQu_",
        "outputId": "fc039322-e492-4f13-c4c9-fa2dc387356a"
      },
      "execution_count": null,
      "outputs": [
        {
          "output_type": "stream",
          "name": "stdout",
          "text": [
            "+-------------------+--------------------+----+--------------------+-----+---------+--------------------+\n",
            "|                T29|      Internet Usage| _c2|                 _c3|  _c4|      _c5|                 _c6|\n",
            "+-------------------+--------------------+----+--------------------+-----+---------+--------------------+\n",
            "|Region/Country/Area|                null|Year|              Series|Value|Footnotes|              Source|\n",
            "|                  1|Total, all countr...|2000|Percentage of ind...|  6.5|     null|International Tel...|\n",
            "|                  1|Total, all countr...|2005|Percentage of ind...| 16.8|     null|International Tel...|\n",
            "|                  1|Total, all countr...|2010|Percentage of ind...| 29.3|     null|International Tel...|\n",
            "|                  1|Total, all countr...|2015|Percentage of ind...| 41.1|     null|International Tel...|\n",
            "|                  1|Total, all countr...|2017|Percentage of ind...| 46.3|     null|International Tel...|\n",
            "|                  1|Total, all countr...|2018|Percentage of ind...| 49.0|     null|International Tel...|\n",
            "|                  1|Total, all countr...|2019|Percentage of ind...| 51.4|     null|International Tel...|\n",
            "|                 15|     Northern Africa|2000|Percentage of ind...|  0.6|     null|International Tel...|\n",
            "|                 15|     Northern Africa|2005|Percentage of ind...|  9.2|     null|International Tel...|\n",
            "|                 15|     Northern Africa|2010|Percentage of ind...| 24.6|     null|International Tel...|\n",
            "|                 15|     Northern Africa|2015|Percentage of ind...| 38.8|     null|International Tel...|\n",
            "|                 15|     Northern Africa|2017|Percentage of ind...| 45.4|     null|International Tel...|\n",
            "|                 15|     Northern Africa|2018|Percentage of ind...| 47.4|     null|International Tel...|\n",
            "|                 15|     Northern Africa|2019|Percentage of ind...| 53.4|     null|International Tel...|\n",
            "|                202|  Sub-Saharan Africa|2000|Percentage of ind...|  0.5|     null|International Tel...|\n",
            "|                202|  Sub-Saharan Africa|2005|Percentage of ind...|  2.1|     null|International Tel...|\n",
            "|                202|  Sub-Saharan Africa|2010|Percentage of ind...|  6.5|     null|International Tel...|\n",
            "|                202|  Sub-Saharan Africa|2015|Percentage of ind...| 20.5|     null|International Tel...|\n",
            "|                202|  Sub-Saharan Africa|2017|Percentage of ind...| 17.9|     null|International Tel...|\n",
            "+-------------------+--------------------+----+--------------------+-----+---------+--------------------+\n",
            "only showing top 20 rows\n",
            "\n"
          ]
        }
      ]
    },
    {
      "cell_type": "code",
      "source": [
        "#Columns in the datasets\n",
        "df1.columns\n"
      ],
      "metadata": {
        "colab": {
          "base_uri": "https://localhost:8080/"
        },
        "id": "mDHeKlfgTZUk",
        "outputId": "c827540a-55aa-4728-f88b-03c85c5c36c4"
      },
      "execution_count": null,
      "outputs": [
        {
          "output_type": "execute_result",
          "data": {
            "text/plain": [
              "['T24', 'CO2 emission estimates', '_c2', '_c3', '_c4', '_c5', '_c6']"
            ]
          },
          "metadata": {},
          "execution_count": 80
        }
      ]
    },
    {
      "cell_type": "code",
      "source": [
        "df2.columns"
      ],
      "metadata": {
        "colab": {
          "base_uri": "https://localhost:8080/"
        },
        "id": "xHeP3uw2TviL",
        "outputId": "bd3eb3e6-0c22-4cf9-e4df-1f728eab097b"
      },
      "execution_count": null,
      "outputs": [
        {
          "output_type": "execute_result",
          "data": {
            "text/plain": [
              "['T19',\n",
              " 'Total imports, exports and balance of trade',\n",
              " '_c2',\n",
              " '_c3',\n",
              " '_c4',\n",
              " '_c5',\n",
              " '_c6',\n",
              " '_c7',\n",
              " '_c8']"
            ]
          },
          "metadata": {},
          "execution_count": 81
        }
      ]
    },
    {
      "cell_type": "code",
      "source": [
        "df3.columns"
      ],
      "metadata": {
        "colab": {
          "base_uri": "https://localhost:8080/"
        },
        "id": "hgaZ9bP5Tzwt",
        "outputId": "f7c00dcf-50d1-4c7e-f34f-036478e69f6d"
      },
      "execution_count": null,
      "outputs": [
        {
          "output_type": "execute_result",
          "data": {
            "text/plain": [
              "['T29', 'Internet Usage', '_c2', '_c3', '_c4', '_c5', '_c6']"
            ]
          },
          "metadata": {},
          "execution_count": 82
        }
      ]
    },
    {
      "cell_type": "code",
      "source": [
        "df4.columns"
      ],
      "metadata": {
        "colab": {
          "base_uri": "https://localhost:8080/"
        },
        "id": "UzMrY0cqT7qD",
        "outputId": "5244e2ec-e152-4a89-aaa4-3e3222fbea16"
      },
      "execution_count": null,
      "outputs": [
        {
          "output_type": "execute_result",
          "data": {
            "text/plain": [
              "['T19',\n",
              " 'Total imports, exports and balance of trade',\n",
              " '_c2',\n",
              " '_c3',\n",
              " '_c4',\n",
              " '_c5',\n",
              " '_c6',\n",
              " '_c7',\n",
              " '_c8']"
            ]
          },
          "metadata": {},
          "execution_count": 83
        }
      ]
    },
    {
      "cell_type": "code",
      "source": [
        "df1.count()\n",
        "\n"
      ],
      "metadata": {
        "colab": {
          "base_uri": "https://localhost:8080/"
        },
        "id": "szZeN88UOHwO",
        "outputId": "4e8558bb-e3c2-4737-a9f7-f01ac6f0e9c2"
      },
      "execution_count": null,
      "outputs": [
        {
          "output_type": "execute_result",
          "data": {
            "text/plain": [
              "220"
            ]
          },
          "metadata": {},
          "execution_count": 57
        }
      ]
    },
    {
      "cell_type": "code",
      "source": [
        "df1_no_null = df1.dropna()\n",
        "df1_no_null.count()"
      ],
      "metadata": {
        "colab": {
          "base_uri": "https://localhost:8080/"
        },
        "id": "X2wq07N6PN5X",
        "outputId": "a9a299d7-3ee6-480b-ab56-d4005e136e2a"
      },
      "execution_count": null,
      "outputs": [
        {
          "output_type": "execute_result",
          "data": {
            "text/plain": [
              "220"
            ]
          },
          "metadata": {},
          "execution_count": 59
        }
      ]
    },
    {
      "cell_type": "code",
      "source": [
        "df2 = df2.dropna()\n",
        "df2.count()"
      ],
      "metadata": {
        "colab": {
          "base_uri": "https://localhost:8080/"
        },
        "id": "uPsneXbZOk02",
        "outputId": "b21979c2-7f6e-4fec-f533-d884514e89ef"
      },
      "execution_count": null,
      "outputs": [
        {
          "output_type": "execute_result",
          "data": {
            "text/plain": [
              "0"
            ]
          },
          "metadata": {},
          "execution_count": 54
        }
      ]
    },
    {
      "cell_type": "code",
      "source": [
        "df3.count()"
      ],
      "metadata": {
        "colab": {
          "base_uri": "https://localhost:8080/"
        },
        "id": "ACjY6XUbOv5w",
        "outputId": "cbdf530d-bdae-4a33-ae9b-37a22bc2c3cd"
      },
      "execution_count": null,
      "outputs": [
        {
          "output_type": "execute_result",
          "data": {
            "text/plain": [
              "1358"
            ]
          },
          "metadata": {},
          "execution_count": 55
        }
      ]
    },
    {
      "cell_type": "code",
      "source": [
        "df3_no_null = df3.dropna()\n",
        "df3_no_null.count()"
      ],
      "metadata": {
        "colab": {
          "base_uri": "https://localhost:8080/"
        },
        "id": "rJTx4gh_O0rf",
        "outputId": "1bd7c639-70c7-4e31-eb25-88930aeb992a"
      },
      "execution_count": null,
      "outputs": [
        {
          "output_type": "execute_result",
          "data": {
            "text/plain": [
              "599"
            ]
          },
          "metadata": {},
          "execution_count": 56
        }
      ]
    },
    {
      "cell_type": "code",
      "source": [
        "df4.count()"
      ],
      "metadata": {
        "colab": {
          "base_uri": "https://localhost:8080/"
        },
        "id": "Zn9P8beSPhHO",
        "outputId": "5a994f57-aeed-401a-ef3c-eb6b8f53a24c"
      },
      "execution_count": null,
      "outputs": [
        {
          "output_type": "execute_result",
          "data": {
            "text/plain": [
              "8604"
            ]
          },
          "metadata": {},
          "execution_count": 60
        }
      ]
    },
    {
      "cell_type": "code",
      "source": [
        "df4_not_null = df4.dropna()\n",
        "df4_not_null.count()"
      ],
      "metadata": {
        "colab": {
          "base_uri": "https://localhost:8080/"
        },
        "id": "dRDPwqGsPkF1",
        "outputId": "fafe6591-619f-4b7d-8005-e4478ad2e531"
      },
      "execution_count": null,
      "outputs": [
        {
          "output_type": "execute_result",
          "data": {
            "text/plain": [
              "0"
            ]
          },
          "metadata": {},
          "execution_count": 61
        }
      ]
    },
    {
      "cell_type": "code",
      "source": [
        "# Summary of the spark cluster\n",
        "# Grouping by region\n",
        "a = df1.select('_c2').show(10)"
      ],
      "metadata": {
        "colab": {
          "base_uri": "https://localhost:8080/"
        },
        "id": "FBHGhAghPyFv",
        "outputId": "e45e28b6-9051-4a25-a68e-7feef43ffd26"
      },
      "execution_count": null,
      "outputs": [
        {
          "output_type": "stream",
          "name": "stdout",
          "text": [
            "+----+\n",
            "| _c2|\n",
            "+----+\n",
            "|1975|\n",
            "|1985|\n",
            "|2005|\n",
            "|2010|\n",
            "|2015|\n",
            "|2016|\n",
            "|2017|\n",
            "|2018|\n",
            "|1975|\n",
            "|1985|\n",
            "+----+\n",
            "only showing top 10 rows\n",
            "\n"
          ]
        }
      ]
    },
    {
      "cell_type": "code",
      "source": [
        "b = df4.select('T19','_c3','_c6').show()"
      ],
      "metadata": {
        "colab": {
          "base_uri": "https://localhost:8080/"
        },
        "id": "THO1QMTpRtyf",
        "outputId": "d3c15916-330e-475b-b113-eeaf3e8d47de"
      },
      "execution_count": null,
      "outputs": [
        {
          "output_type": "stream",
          "name": "stdout",
          "text": [
            "+-------------------+--------------------+----------+\n",
            "|                T19|                 _c3|       _c6|\n",
            "+-------------------+--------------------+----------+\n",
            "|Region/Country/Area|              Series|     Value|\n",
            "|                  1|Imports CIF (mill...| 5,099,057|\n",
            "|                  1|Imports CIF (mill...|10,577,013|\n",
            "|                  1|Imports CIF (mill...|15,275,115|\n",
            "|                  1|Imports CIF (mill...|16,482,346|\n",
            "|                  1|Imports CIF (mill...|19,448,147|\n",
            "|                  1|Imports CIF (mill...|18,870,155|\n",
            "|                  1|Imports CIF (mill...|17,552,638|\n",
            "|                  1|Exports FOB (mill...| 5,050,238|\n",
            "|                  1|Exports FOB (mill...|10,373,445|\n",
            "|                  1|Exports FOB (mill...|15,102,218|\n",
            "|                  1|Exports FOB (mill...|16,384,279|\n",
            "|                  1|Exports FOB (mill...|19,108,071|\n",
            "|                  1|Exports FOB (mill...|18,585,471|\n",
            "|                  1|Exports FOB (mill...|17,480,150|\n",
            "|                  1|Balance imports/e...|   -48,819|\n",
            "|                  1|Balance imports/e...|  -203,568|\n",
            "|                  1|Balance imports/e...|  -172,897|\n",
            "|                  1|Balance imports/e...|   -98,067|\n",
            "|                  1|Balance imports/e...|  -340,076|\n",
            "+-------------------+--------------------+----------+\n",
            "only showing top 20 rows\n",
            "\n"
          ]
        }
      ]
    }
  ]
}